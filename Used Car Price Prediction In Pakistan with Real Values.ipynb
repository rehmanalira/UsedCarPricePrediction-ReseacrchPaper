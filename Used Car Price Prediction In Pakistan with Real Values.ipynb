{
 "cells": [
  {
   "cell_type": "markdown",
   "id": "553307e3",
   "metadata": {},
   "source": [
    "# Importing Libraries"
   ]
  },
  {
   "cell_type": "code",
   "execution_count": 1,
   "id": "6ffcadde",
   "metadata": {},
   "outputs": [],
   "source": [
    "import numpy as np\n",
    "import matplotlib.pyplot as plt\n",
    "import pandas as pd\n",
    "from sklearn.metrics import mean_squared_error\n",
    "from sklearn.metrics import mean_absolute_error"
   ]
  },
  {
   "cell_type": "markdown",
   "id": "0b701e20",
   "metadata": {},
   "source": [
    "# Importing DataSets\n"
   ]
  },
  {
   "cell_type": "code",
   "execution_count": 2,
   "id": "6871fd4d",
   "metadata": {},
   "outputs": [],
   "source": [
    "dataset=pd.read_csv('pakwheels.csv')\n",
    "# dataset=pd.read_csv('pakwheels2.csv')\n",
    "# droping name column from data sets\n",
    "dataset.drop('Name', axis=1, inplace=True)\n",
    "# Removing All Rows which consisist Call in Price column which is not useable\n",
    "dataset=dataset[dataset['Price'].str.contains(\"Call\")==False]\n",
    "dataset=dataset[dataset['Price'].str.contains(\"Grade\")==False]\n",
    "dataset=dataset[dataset['Price'].str.contains(\"#\")==False]\n",
    "dataset=dataset[dataset['Price'].str.contains(\"A\")==False]\n",
    "\n"
   ]
  },
  {
   "cell_type": "code",
   "execution_count": 3,
   "id": "59ebe192",
   "metadata": {},
   "outputs": [
    {
     "data": {
      "text/html": [
       "<div>\n",
       "<style scoped>\n",
       "    .dataframe tbody tr th:only-of-type {\n",
       "        vertical-align: middle;\n",
       "    }\n",
       "\n",
       "    .dataframe tbody tr th {\n",
       "        vertical-align: top;\n",
       "    }\n",
       "\n",
       "    .dataframe thead th {\n",
       "        text-align: right;\n",
       "    }\n",
       "</style>\n",
       "<table border=\"1\" class=\"dataframe\">\n",
       "  <thead>\n",
       "    <tr style=\"text-align: right;\">\n",
       "      <th></th>\n",
       "      <th>Year</th>\n",
       "      <th>KM</th>\n",
       "      <th>FuelType</th>\n",
       "      <th>Engine</th>\n",
       "      <th>DriveType</th>\n",
       "      <th>Price</th>\n",
       "    </tr>\n",
       "  </thead>\n",
       "  <tbody>\n",
       "    <tr>\n",
       "      <th>0</th>\n",
       "      <td>2011</td>\n",
       "      <td>91,098</td>\n",
       "      <td>Petrol</td>\n",
       "      <td>1800.0</td>\n",
       "      <td>Automatic</td>\n",
       "      <td>2,075,000</td>\n",
       "    </tr>\n",
       "    <tr>\n",
       "      <th>1</th>\n",
       "      <td>2019</td>\n",
       "      <td>53,000</td>\n",
       "      <td>Petrol</td>\n",
       "      <td>1600.0</td>\n",
       "      <td>Automatic</td>\n",
       "      <td>3,625,000</td>\n",
       "    </tr>\n",
       "    <tr>\n",
       "      <th>2</th>\n",
       "      <td>2013</td>\n",
       "      <td>72,000</td>\n",
       "      <td>Petrol</td>\n",
       "      <td>1800.0</td>\n",
       "      <td>Automatic</td>\n",
       "      <td>2,425,000</td>\n",
       "    </tr>\n",
       "    <tr>\n",
       "      <th>3</th>\n",
       "      <td>2005</td>\n",
       "      <td>56,455</td>\n",
       "      <td>Petrol</td>\n",
       "      <td>2700.0</td>\n",
       "      <td>Automatic</td>\n",
       "      <td>6500000</td>\n",
       "    </tr>\n",
       "    <tr>\n",
       "      <th>4</th>\n",
       "      <td>2016</td>\n",
       "      <td>52,000</td>\n",
       "      <td>Petrol</td>\n",
       "      <td>1300.0</td>\n",
       "      <td>Manual</td>\n",
       "      <td>2,380,000</td>\n",
       "    </tr>\n",
       "  </tbody>\n",
       "</table>\n",
       "</div>"
      ],
      "text/plain": [
       "   Year      KM FuelType  Engine  DriveType      Price\n",
       "0  2011  91,098   Petrol  1800.0  Automatic  2,075,000\n",
       "1  2019  53,000   Petrol  1600.0  Automatic  3,625,000\n",
       "2  2013  72,000   Petrol  1800.0  Automatic  2,425,000\n",
       "3  2005  56,455   Petrol  2700.0  Automatic    6500000\n",
       "4  2016  52,000   Petrol  1300.0     Manual  2,380,000"
      ]
     },
     "execution_count": 3,
     "metadata": {},
     "output_type": "execute_result"
    }
   ],
   "source": [
    "dataset.head()"
   ]
  },
  {
   "cell_type": "code",
   "execution_count": 4,
   "id": "bc6197dd",
   "metadata": {},
   "outputs": [
    {
     "data": {
      "text/plain": [
       "Petrol      22721\n",
       "Diesel       1183\n",
       "Hybrid        922\n",
       "CNG           164\n",
       "Electric       44\n",
       "LPG             3\n",
       "Name: FuelType, dtype: int64"
      ]
     },
     "execution_count": 4,
     "metadata": {},
     "output_type": "execute_result"
    }
   ],
   "source": [
    "# checking how many values exisists in colum \n",
    "dataset['FuelType'].value_counts()"
   ]
  },
  {
   "cell_type": "code",
   "execution_count": 5,
   "id": "2d9b2ab0",
   "metadata": {},
   "outputs": [
    {
     "data": {
      "text/plain": [
       "Automatic    15030\n",
       "Manual       10007\n",
       "Name: DriveType, dtype: int64"
      ]
     },
     "execution_count": 5,
     "metadata": {},
     "output_type": "execute_result"
    }
   ],
   "source": [
    "dataset['DriveType'].value_counts()"
   ]
  },
  {
   "cell_type": "markdown",
   "id": "5fce0323",
   "metadata": {},
   "source": [
    "# Encoding Caterogical Values"
   ]
  },
  {
   "cell_type": "code",
   "execution_count": 6,
   "id": "9140014c",
   "metadata": {},
   "outputs": [
    {
     "data": {
      "text/html": [
       "<div>\n",
       "<style scoped>\n",
       "    .dataframe tbody tr th:only-of-type {\n",
       "        vertical-align: middle;\n",
       "    }\n",
       "\n",
       "    .dataframe tbody tr th {\n",
       "        vertical-align: top;\n",
       "    }\n",
       "\n",
       "    .dataframe thead th {\n",
       "        text-align: right;\n",
       "    }\n",
       "</style>\n",
       "<table border=\"1\" class=\"dataframe\">\n",
       "  <thead>\n",
       "    <tr style=\"text-align: right;\">\n",
       "      <th></th>\n",
       "      <th>Year</th>\n",
       "      <th>KM</th>\n",
       "      <th>FuelType</th>\n",
       "      <th>Engine</th>\n",
       "      <th>DriveType</th>\n",
       "      <th>Price</th>\n",
       "    </tr>\n",
       "  </thead>\n",
       "  <tbody>\n",
       "    <tr>\n",
       "      <th>0</th>\n",
       "      <td>2011</td>\n",
       "      <td>91098</td>\n",
       "      <td>Petrol</td>\n",
       "      <td>1800.0</td>\n",
       "      <td>Automatic</td>\n",
       "      <td>2075000</td>\n",
       "    </tr>\n",
       "    <tr>\n",
       "      <th>1</th>\n",
       "      <td>2019</td>\n",
       "      <td>53000</td>\n",
       "      <td>Petrol</td>\n",
       "      <td>1600.0</td>\n",
       "      <td>Automatic</td>\n",
       "      <td>3625000</td>\n",
       "    </tr>\n",
       "    <tr>\n",
       "      <th>2</th>\n",
       "      <td>2013</td>\n",
       "      <td>72000</td>\n",
       "      <td>Petrol</td>\n",
       "      <td>1800.0</td>\n",
       "      <td>Automatic</td>\n",
       "      <td>2425000</td>\n",
       "    </tr>\n",
       "    <tr>\n",
       "      <th>3</th>\n",
       "      <td>2005</td>\n",
       "      <td>56455</td>\n",
       "      <td>Petrol</td>\n",
       "      <td>2700.0</td>\n",
       "      <td>Automatic</td>\n",
       "      <td>6500000</td>\n",
       "    </tr>\n",
       "    <tr>\n",
       "      <th>4</th>\n",
       "      <td>2016</td>\n",
       "      <td>52000</td>\n",
       "      <td>Petrol</td>\n",
       "      <td>1300.0</td>\n",
       "      <td>Manual</td>\n",
       "      <td>2380000</td>\n",
       "    </tr>\n",
       "  </tbody>\n",
       "</table>\n",
       "</div>"
      ],
      "text/plain": [
       "   Year     KM FuelType  Engine  DriveType    Price\n",
       "0  2011  91098   Petrol  1800.0  Automatic  2075000\n",
       "1  2019  53000   Petrol  1600.0  Automatic  3625000\n",
       "2  2013  72000   Petrol  1800.0  Automatic  2425000\n",
       "3  2005  56455   Petrol  2700.0  Automatic  6500000\n",
       "4  2016  52000   Petrol  1300.0     Manual  2380000"
      ]
     },
     "execution_count": 6,
     "metadata": {},
     "output_type": "execute_result"
    }
   ],
   "source": [
    "# Encoding DriveType Because it only contains two values\n",
    "# from sklearn.preprocessing import LabelEncoder\n",
    "# le = LabelEncoder()\n",
    "# lable = le.fit_transform(dataset['DriveType'])\n",
    "\n",
    "# dataset.drop('DriveType', axis=1, inplace=True)\n",
    "\n",
    "# dataset['DriveType'] = lable\n",
    "\n",
    "\n",
    "\n",
    "# changine the direction of columns\n",
    "# dataset.drop('FuelType', axis=1, inplace=True)\n",
    "# dataset = dataset[['Year', 'KM', 'FuelType','DriveType', 'Price']]\n",
    "\n",
    "\n",
    "# removing all , from datasets\n",
    "dataset.replace(',','', regex=True, inplace=True)\n",
    "dataset.head()\n",
    "\n",
    "\n",
    "\n"
   ]
  },
  {
   "cell_type": "code",
   "execution_count": 7,
   "id": "123f7d47",
   "metadata": {},
   "outputs": [],
   "source": [
    "# fuel_type=pd.get_dummies(dataset['FuelType'])\n",
    "# # fuel_type.head(50)\n",
    "# dataset=pd.concat([dataset,fuel_type],axis=1)\n",
    "# # dataset=pd.concat([fuel_type],axis=1)\n",
    "# dataset.head()"
   ]
  },
  {
   "cell_type": "code",
   "execution_count": null,
   "id": "49bfbfb1",
   "metadata": {},
   "outputs": [],
   "source": []
  },
  {
   "cell_type": "code",
   "execution_count": 8,
   "id": "8c7edeb4",
   "metadata": {},
   "outputs": [],
   "source": [
    "# converting KM to int \n",
    "dataset['KM'] = dataset['KM'].astype(int)\n",
    "# converting price to int\n",
    "dataset['Price'] = dataset['Price'].astype(int)"
   ]
  },
  {
   "cell_type": "markdown",
   "id": "558f3500",
   "metadata": {},
   "source": [
    "# Matplot \n"
   ]
  },
  {
   "cell_type": "code",
   "execution_count": 9,
   "id": "289066d4",
   "metadata": {},
   "outputs": [],
   "source": [
    "%matplotlib inline"
   ]
  },
  {
   "cell_type": "code",
   "execution_count": 10,
   "id": "7502075d",
   "metadata": {},
   "outputs": [
    {
     "data": {
      "text/plain": [
       "array([[<AxesSubplot:title={'center':'Year'}>,\n",
       "        <AxesSubplot:title={'center':'KM'}>],\n",
       "       [<AxesSubplot:title={'center':'Engine'}>,\n",
       "        <AxesSubplot:title={'center':'Price'}>]], dtype=object)"
      ]
     },
     "execution_count": 10,
     "metadata": {},
     "output_type": "execute_result"
    },
    {
     "data": {
      "image/png": "[encoded data removed]",
      "text/plain": [
       "<Figure size 1440x1080 with 4 Axes>"
      ]
     },
     "metadata": {
      "needs_background": "light"
     },
     "output_type": "display_data"
    }
   ],
   "source": [
    "dataset.hist(bins=10, figsize=(20,15))"
   ]
  },
  {
   "cell_type": "code",
   "execution_count": null,
   "id": "d8c117b6",
   "metadata": {},
   "outputs": [],
   "source": []
  },
  {
   "cell_type": "code",
   "execution_count": null,
   "id": "1b69ac88",
   "metadata": {},
   "outputs": [],
   "source": []
  },
  {
   "cell_type": "code",
   "execution_count": null,
   "id": "0d7fb76c",
   "metadata": {},
   "outputs": [],
   "source": []
  },
  {
   "cell_type": "code",
   "execution_count": 11,
   "id": "9d482e8e",
   "metadata": {},
   "outputs": [],
   "source": [
    "X=dataset.iloc[:,:-1].values\n",
    "y=dataset.iloc[:,-1].values"
   ]
  },
  {
   "cell_type": "code",
   "execution_count": 12,
   "id": "aaf379e8",
   "metadata": {},
   "outputs": [
    {
     "name": "stdout",
     "output_type": "stream",
     "text": [
      "[[2011 91098 'Petrol' 1800.0 'Automatic']\n",
      " [2019 53000 'Petrol' 1600.0 'Automatic']\n",
      " [2013 72000 'Petrol' 1800.0 'Automatic']\n",
      " ...\n",
      " [2001 115437 'Petrol' 1300.0 'Manual']\n",
      " [2011 2222 'Petrol' 1300.0 'Manual']\n",
      " [2006 99999 'Petrol' 1800.0 'Automatic']]\n"
     ]
    }
   ],
   "source": [
    "print(X)\n"
   ]
  },
  {
   "cell_type": "code",
   "execution_count": 13,
   "id": "b939e799",
   "metadata": {},
   "outputs": [
    {
     "name": "stdout",
     "output_type": "stream",
     "text": [
      "[2075000 3625000 2425000 ...  650000 1430000 1685000]\n"
     ]
    }
   ],
   "source": [
    "print(y)"
   ]
  },
  {
   "cell_type": "markdown",
   "id": "ab7834ca",
   "metadata": {},
   "source": [
    "# Applying One Hot Encode"
   ]
  },
  {
   "cell_type": "code",
   "execution_count": 14,
   "id": "5749bcfe",
   "metadata": {},
   "outputs": [],
   "source": [
    "from sklearn.compose import ColumnTransformer\n",
    "from sklearn.preprocessing import OneHotEncoder\n",
    "ct = ColumnTransformer(transformers=[('encoder' , OneHotEncoder() , [2,4] )], remainder=\"passthrough\")\n",
    "\n",
    "\n",
    "X=ct.fit_transform(X)"
   ]
  },
  {
   "cell_type": "code",
   "execution_count": 15,
   "id": "10a18c70",
   "metadata": {},
   "outputs": [
    {
     "name": "stdout",
     "output_type": "stream",
     "text": [
      "[[0.0 0.0 0.0 ... 2011 91098 1800.0]\n",
      " [0.0 0.0 0.0 ... 2019 53000 1600.0]\n",
      " [0.0 0.0 0.0 ... 2013 72000 1800.0]\n",
      " ...\n",
      " [0.0 0.0 0.0 ... 2001 115437 1300.0]\n",
      " [0.0 0.0 0.0 ... 2011 2222 1300.0]\n",
      " [0.0 0.0 0.0 ... 2006 99999 1800.0]]\n"
     ]
    }
   ],
   "source": [
    "print(X)"
   ]
  },
  {
   "cell_type": "markdown",
   "id": "70581a7c",
   "metadata": {},
   "source": [
    "# For CooRelation"
   ]
  },
  {
   "cell_type": "code",
   "execution_count": 16,
   "id": "74effe26",
   "metadata": {},
   "outputs": [],
   "source": [
    "corr_matrix=dataset.corr()"
   ]
  },
  {
   "cell_type": "code",
   "execution_count": 17,
   "id": "815f1b37",
   "metadata": {},
   "outputs": [
    {
     "data": {
      "text/plain": [
       "Price     1.000000\n",
       "Year      0.475305\n",
       "Engine    0.421834\n",
       "KM       -0.287804\n",
       "Name: Price, dtype: float64"
      ]
     },
     "execution_count": 17,
     "metadata": {},
     "output_type": "execute_result"
    }
   ],
   "source": [
    "corr_matrix['Price'].sort_values(ascending=False)\n",
    "# positive coo relation means if one variable value increase other also increace\n",
    "# Neagtive coo relation means if one variable value increase other decreasse"
   ]
  },
  {
   "cell_type": "code",
   "execution_count": 18,
   "id": "000c434b",
   "metadata": {},
   "outputs": [],
   "source": [
    "from pandas.plotting import scatter_matrix"
   ]
  },
  {
   "cell_type": "code",
   "execution_count": 19,
   "id": "2b61af3b",
   "metadata": {},
   "outputs": [
    {
     "data": {
      "text/plain": [
       "array([[<AxesSubplot:xlabel='Year', ylabel='Year'>,\n",
       "        <AxesSubplot:xlabel='KM', ylabel='Year'>,\n",
       "        <AxesSubplot:xlabel='Engine', ylabel='Year'>],\n",
       "       [<AxesSubplot:xlabel='Year', ylabel='KM'>,\n",
       "        <AxesSubplot:xlabel='KM', ylabel='KM'>,\n",
       "        <AxesSubplot:xlabel='Engine', ylabel='KM'>],\n",
       "       [<AxesSubplot:xlabel='Year', ylabel='Engine'>,\n",
       "        <AxesSubplot:xlabel='KM', ylabel='Engine'>,\n",
       "        <AxesSubplot:xlabel='Engine', ylabel='Engine'>]], dtype=object)"
      ]
     },
     "execution_count": 19,
     "metadata": {},
     "output_type": "execute_result"
    },
    {
     "data": {
      "image/png": "[encoded data removed]",
      "text/plain": [
       "<Figure size 864x576 with 9 Axes>"
      ]
     },
     "metadata": {
      "needs_background": "light"
     },
     "output_type": "display_data"
    }
   ],
   "source": [
    "attributes=['Year',  'KM', 'FuelType','Engine','DriveType']\n",
    "scatter_matrix(dataset[attributes] , figsize=(12,8))"
   ]
  },
  {
   "cell_type": "code",
   "execution_count": 20,
   "id": "b11e5898",
   "metadata": {},
   "outputs": [
    {
     "name": "stdout",
     "output_type": "stream",
     "text": [
      "[[0.19537402]\n",
      " [0.34793307]\n",
      " [0.22982283]\n",
      " ...\n",
      " [0.05511811]\n",
      " [0.13188976]\n",
      " [0.15698819]]\n",
      "[[0.         0.         0.         ... 0.84507042 0.09109709 0.18      ]\n",
      " [0.         0.         0.         ... 0.95774648 0.05299905 0.16      ]\n",
      " [0.         0.         0.         ... 0.87323944 0.07199907 0.18      ]\n",
      " ...\n",
      " [0.         0.         0.         ... 0.70422535 0.11543612 0.13      ]\n",
      " [0.         0.         0.         ... 0.84507042 0.002221   0.13      ]\n",
      " [0.         0.         0.         ... 0.77464789 0.0999981  0.18      ]]\n"
     ]
    }
   ],
   "source": [
    "from sklearn import preprocessing \n",
    "\n",
    "min_max_scaler = preprocessing.MinMaxScaler(feature_range =(0, 1))\n",
    "y= min_max_scaler.fit_transform(y.reshape(-1, 1))\n",
    "X= min_max_scaler.fit_transform(X)\n",
    "\n",
    "\n",
    "print(y)\n",
    "print(X)"
   ]
  },
  {
   "cell_type": "markdown",
   "id": "c43d9ee0",
   "metadata": {},
   "source": [
    "# Spilting The DataSets"
   ]
  },
  {
   "cell_type": "code",
   "execution_count": 21,
   "id": "36808700",
   "metadata": {},
   "outputs": [],
   "source": [
    "from sklearn.model_selection import train_test_split\n",
    "X_train, X_test, y_train, y_test = train_test_split(X,y, test_size=0.2, random_state=0)"
   ]
  },
  {
   "cell_type": "code",
   "execution_count": 22,
   "id": "73de868e",
   "metadata": {},
   "outputs": [
    {
     "name": "stdout",
     "output_type": "stream",
     "text": [
      "[[0.24704724]\n",
      " [0.1230315 ]\n",
      " [0.16338583]\n",
      " ...\n",
      " [0.15108268]\n",
      " [0.93602362]\n",
      " [0.12893701]]\n",
      "[[0.         0.         0.         ... 0.88732394 0.02199902 0.066     ]\n",
      " [0.         0.         0.         ... 0.78873239 0.0979991  0.13      ]\n",
      " [0.         0.         0.         ... 0.81690141 0.07904708 0.13      ]\n",
      " ...\n",
      " [0.         0.         0.         ... 0.81690141 0.001583   0.1       ]\n",
      " [0.         1.         0.         ... 0.94366197 0.05199905 0.28      ]\n",
      " [0.         0.         0.         ... 0.66197183 0.0999991  0.2       ]]\n"
     ]
    }
   ],
   "source": [
    "print(y_test)\n",
    "print(X_test)"
   ]
  },
  {
   "cell_type": "code",
   "execution_count": null,
   "id": "b505624c",
   "metadata": {},
   "outputs": [],
   "source": []
  },
  {
   "cell_type": "markdown",
   "id": "f2524943",
   "metadata": {},
   "source": [
    "# Traning Desecion Tree Regression"
   ]
  },
  {
   "cell_type": "code",
   "execution_count": 23,
   "id": "feed22d2",
   "metadata": {},
   "outputs": [
    {
     "data": {
      "text/plain": [
       "DecisionTreeRegressor(random_state=0)"
      ]
     },
     "execution_count": 23,
     "metadata": {},
     "output_type": "execute_result"
    }
   ],
   "source": [
    "from sklearn.tree import DecisionTreeRegressor\n",
    "dt_regressor = DecisionTreeRegressor(random_state = 0)\n",
    "dt_regressor.fit(X_train, y_train)"
   ]
  },
  {
   "cell_type": "code",
   "execution_count": 24,
   "id": "b8067ed6",
   "metadata": {},
   "outputs": [
    {
     "name": "stdout",
     "output_type": "stream",
     "text": [
      "[0.11909449 0.16141732 0.14370079 ... 0.17322835 0.94586614 0.14862205]\n"
     ]
    }
   ],
   "source": [
    "y_pred = dt_regressor.predict(X_test)\n",
    "print(y_pred)"
   ]
  },
  {
   "cell_type": "code",
   "execution_count": 25,
   "id": "d6825ff7",
   "metadata": {},
   "outputs": [
    {
     "name": "stdout",
     "output_type": "stream",
     "text": [
      "R2 Squre of Desecion Tree Regressor is 0.6967196246835405\n"
     ]
    }
   ],
   "source": [
    "from sklearn.metrics import r2_score\n",
    "print(f\"R2 Squre of Desecion Tree Regressor is {r2_score(y_test, y_pred)}\")"
   ]
  },
  {
   "cell_type": "markdown",
   "id": "25109100",
   "metadata": {},
   "source": [
    "# Traning Multiple Linear  Regression"
   ]
  },
  {
   "cell_type": "code",
   "execution_count": 26,
   "id": "deed9f0d",
   "metadata": {},
   "outputs": [
    {
     "data": {
      "text/plain": [
       "LinearRegression()"
      ]
     },
     "execution_count": 26,
     "metadata": {},
     "output_type": "execute_result"
    }
   ],
   "source": [
    "from sklearn.linear_model import LinearRegression\n",
    "lr_regressor = LinearRegression()\n",
    "lr_regressor.fit(X_train,y_train)\n"
   ]
  },
  {
   "cell_type": "code",
   "execution_count": 27,
   "id": "a1cc2de4",
   "metadata": {},
   "outputs": [
    {
     "name": "stdout",
     "output_type": "stream",
     "text": [
      "[[0.24816895]\n",
      " [0.11984253]\n",
      " [0.1401062 ]\n",
      " ...\n",
      " [0.23474121]\n",
      " [0.49905396]\n",
      " [0.09591675]]\n"
     ]
    }
   ],
   "source": [
    "y_pred = lr_regressor.predict(X_test)\n",
    "print(y_pred)"
   ]
  },
  {
   "cell_type": "code",
   "execution_count": 28,
   "id": "e8d74020",
   "metadata": {
    "scrolled": true
   },
   "outputs": [
    {
     "name": "stdout",
     "output_type": "stream",
     "text": [
      "R2 Squre of Multiple Regressor is 0.5305021846398736\n",
      "RMSE 0.13179636414472884\n",
      "Mean Absolute Error 0.08796596382672565\n",
      "Mean Squre Error 0.017370281601769965\n"
     ]
    }
   ],
   "source": [
    "from sklearn.metrics import r2_score\n",
    "print(f\"R2 Squre of Multiple Regressor is {r2_score(y_test, y_pred)}\")\n",
    "line_mse=mean_squared_error(y_test,y_pred)\n",
    "mae=mean_absolute_error(y_test,y_pred)\n",
    "rmse=np.sqrt(line_mse)\n",
    "print(f\"RMSE {rmse}\")\n",
    "print(f\"Mean Absolute Error {mae}\")\n",
    "print(f\"Mean Squre Error {line_mse}\")"
   ]
  },
  {
   "cell_type": "markdown",
   "id": "e3f50ef9",
   "metadata": {},
   "source": [
    "# Training the Polynomial Regression model on the Training set"
   ]
  },
  {
   "cell_type": "code",
   "execution_count": 29,
   "id": "6c40d666",
   "metadata": {},
   "outputs": [
    {
     "data": {
      "text/plain": [
       "LinearRegression()"
      ]
     },
     "execution_count": 29,
     "metadata": {},
     "output_type": "execute_result"
    }
   ],
   "source": [
    "from sklearn.preprocessing import PolynomialFeatures\n",
    "from sklearn.linear_model import LinearRegression\n",
    "poly_reg = PolynomialFeatures(degree = 4)\n",
    "X_poly = poly_reg.fit_transform(X_train)\n",
    "p_regressor = LinearRegression()\n",
    "p_regressor.fit(X_poly, y_train)\n"
   ]
  },
  {
   "cell_type": "code",
   "execution_count": 30,
   "id": "064f3964",
   "metadata": {},
   "outputs": [
    {
     "name": "stdout",
     "output_type": "stream",
     "text": [
      "[[0.20794678]\n",
      " [0.10888672]\n",
      " [0.11889648]\n",
      " ...\n",
      " [0.15385437]\n",
      " [0.56112671]\n",
      " [0.15144348]]\n"
     ]
    }
   ],
   "source": [
    "y_pred = p_regressor.predict(poly_reg.transform(X_test))\n",
    "print(y_pred)"
   ]
  },
  {
   "cell_type": "code",
   "execution_count": 31,
   "id": "c0544b80",
   "metadata": {},
   "outputs": [
    {
     "name": "stdout",
     "output_type": "stream",
     "text": [
      "R2 Squre of  Polynomial Regression is -45937803868133.19\n",
      "RMSE 1303682.2613006346\n",
      "Mean Absolute Error 31401.760003411804\n",
      "Mean Squre Error 1699587438429.936\n"
     ]
    }
   ],
   "source": [
    "from sklearn.metrics import r2_score\n",
    "print(f\"R2 Squre of  Polynomial Regression is {r2_score(y_test, y_pred)}\")\n",
    "\n",
    "line_mse=mean_squared_error(y_test,y_pred)\n",
    "mae=mean_absolute_error(y_test,y_pred)\n",
    "rmse=np.sqrt(line_mse)\n",
    "print(f\"RMSE {rmse}\")\n",
    "print(f\"Mean Absolute Error {mae}\")\n",
    "print(f\"Mean Squre Error {line_mse}\")"
   ]
  },
  {
   "cell_type": "markdown",
   "id": "3f312768",
   "metadata": {},
   "source": [
    "# Training the Random Forest Regression model"
   ]
  },
  {
   "cell_type": "code",
   "execution_count": 32,
   "id": "a7781b2f",
   "metadata": {},
   "outputs": [
    {
     "name": "stderr",
     "output_type": "stream",
     "text": [
      "C:\\Users\\DELL 95\\AppData\\Local\\Temp\\ipykernel_15536\\2647439645.py:3: DataConversionWarning: A column-vector y was passed when a 1d array was expected. Please change the shape of y to (n_samples,), for example using ravel().\n",
      "  rf_regressor.fit(X_train, y_train)\n"
     ]
    },
    {
     "data": {
      "text/plain": [
       "RandomForestRegressor(n_estimators=10, random_state=0)"
      ]
     },
     "execution_count": 32,
     "metadata": {},
     "output_type": "execute_result"
    }
   ],
   "source": [
    "from sklearn.ensemble import RandomForestRegressor\n",
    "rf_regressor = RandomForestRegressor(n_estimators = 10, random_state = 0)\n",
    "rf_regressor.fit(X_train, y_train)"
   ]
  },
  {
   "cell_type": "code",
   "execution_count": 33,
   "id": "6b80dda1",
   "metadata": {},
   "outputs": [
    {
     "name": "stdout",
     "output_type": "stream",
     "text": [
      "[0.13863189 0.15127953 0.16087598 ... 0.15767717 0.90086942 0.12223425]\n",
      "[[0.24704724]\n",
      " [0.1230315 ]\n",
      " [0.16338583]\n",
      " ...\n",
      " [0.15108268]\n",
      " [0.93602362]\n",
      " [0.12893701]]\n"
     ]
    }
   ],
   "source": [
    "y_pred = rf_regressor.predict(X_test)\n",
    "print(y_pred)\n",
    "print(y_test)"
   ]
  },
  {
   "cell_type": "code",
   "execution_count": 34,
   "id": "39a239f2",
   "metadata": {},
   "outputs": [
    {
     "name": "stdout",
     "output_type": "stream",
     "text": [
      "R2 Squre ofRandom Forest Regression is 0.7472462317950487\n"
     ]
    }
   ],
   "source": [
    "from sklearn.metrics import r2_score\n",
    "print(f\"R2 Squre ofRandom Forest Regression is {r2_score(y_test, y_pred)}\")"
   ]
  },
  {
   "cell_type": "code",
   "execution_count": 35,
   "id": "719e2daf",
   "metadata": {},
   "outputs": [
    {
     "name": "stdout",
     "output_type": "stream",
     "text": [
      "RMSE 0.0967020010938288\n",
      "Mean Absolute Error 0.046728442561987785\n",
      "Mean Squre Error 0.009351277015550868\n"
     ]
    }
   ],
   "source": [
    "\n",
    "line_mse=mean_squared_error(y_test,y_pred)\n",
    "mae=mean_absolute_error(y_test,y_pred)\n",
    "rmse=np.sqrt(line_mse)\n",
    "print(f\"RMSE {rmse}\")\n",
    "print(f\"Mean Absolute Error {mae}\")\n",
    "print(f\"Mean Squre Error {line_mse}\")"
   ]
  },
  {
   "cell_type": "code",
   "execution_count": 36,
   "id": "dc0deab7",
   "metadata": {},
   "outputs": [],
   "source": [
    "\n",
    "# y=y.reshape(len(y),1)\n",
    "# from sklearn.preprocessing import StandardScaler\n",
    "# # we use feature scalling for the both X and Y \n",
    "# sc_X = StandardScaler()\n",
    "# sc_y = StandardScaler()\n",
    "# X = sc_X.fit_transform(X)\n",
    "# y = sc_y.fit_transform(y)\n",
    "\n",
    "# from sklearn.svm import SVR\n",
    "# sv_regressor = SVR(kernel = 'rbf')\n",
    "# sv_regressor.fit(X, y)"
   ]
  },
  {
   "cell_type": "code",
   "execution_count": null,
   "id": "4b78401c",
   "metadata": {},
   "outputs": [],
   "source": [
    "\n"
   ]
  },
  {
   "cell_type": "code",
   "execution_count": null,
   "id": "1755d393",
   "metadata": {},
   "outputs": [],
   "source": []
  },
  {
   "cell_type": "code",
   "execution_count": null,
   "id": "e8554b16",
   "metadata": {},
   "outputs": [],
   "source": []
  }
 ],
 "metadata": {
  "kernelspec": {
   "display_name": "Python 3 (ipykernel)",
   "language": "python",
   "name": "python3"
  },
  "language_info": {
   "codemirror_mode": {
    "name": "ipython",
    "version": 3
   },
   "file_extension": ".py",
   "mimetype": "text/x-python",
   "name": "python",
   "nbconvert_exporter": "python",
   "pygments_lexer": "ipython3",
   "version": "3.10.4"
  }
 },
 "nbformat": 4,
 "nbformat_minor": 5
}
